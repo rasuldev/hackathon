{
 "cells": [
  {
   "cell_type": "code",
   "execution_count": 1,
   "metadata": {
    "colab": {
     "base_uri": "https://localhost:8080/",
     "height": 329
    },
    "executionInfo": {
     "elapsed": 1287,
     "status": "error",
     "timestamp": 1723109493689,
     "user": {
      "displayName": "ОМИ ДНЦ РАН",
      "userId": "01242135613161943268"
     },
     "user_tz": -180
    },
    "id": "hlPc1MAQKDYe",
    "outputId": "4340b710-8241-4825-b787-742950a2ccbd",
    "ExecuteTime": {
     "end_time": "2024-08-09T08:52:13.369067Z",
     "start_time": "2024-08-09T08:52:13.317547100Z"
    }
   },
   "outputs": [],
   "source": [
    "%load_ext autoreload\n",
    "%autoreload 2\n",
    "import sys\n",
    "import os\n",
    "sys.path.append(os.path.abspath(os.path.join(os.pardir, os.pardir)))"
   ]
  },
  {
   "cell_type": "code",
   "execution_count": 6,
   "metadata": {
    "colab": {
     "base_uri": "https://localhost:8080/",
     "height": 329
    },
    "executionInfo": {
     "elapsed": 1287,
     "status": "error",
     "timestamp": 1723109493689,
     "user": {
      "displayName": "ОМИ ДНЦ РАН",
      "userId": "01242135613161943268"
     },
     "user_tz": -180
    },
    "id": "hlPc1MAQKDYe",
    "outputId": "4340b710-8241-4825-b787-742950a2ccbd",
    "ExecuteTime": {
     "end_time": "2024-08-09T09:45:44.930093Z",
     "start_time": "2024-08-09T09:42:25.444590500Z"
    }
   },
   "outputs": [
    {
     "name": "stderr",
     "output_type": "stream",
     "text": [
      "F:\\Projects\\hackathon\\envs\\Lib\\site-packages\\openpyxl\\styles\\stylesheet.py:237: UserWarning: Workbook contains no default style, apply openpyxl's default\n",
      "  warn(\"Workbook contains no default style, apply openpyxl's default\")\n",
      "F:\\Projects\\hackathon\\envs\\Lib\\site-packages\\openpyxl\\styles\\stylesheet.py:237: UserWarning: Workbook contains no default style, apply openpyxl's default\n",
      "  warn(\"Workbook contains no default style, apply openpyxl's default\")\n",
      "F:\\Projects\\hackathon\\envs\\Lib\\site-packages\\openpyxl\\styles\\stylesheet.py:237: UserWarning: Workbook contains no default style, apply openpyxl's default\n",
      "  warn(\"Workbook contains no default style, apply openpyxl's default\")\n",
      "F:\\Projects\\hackathon\\envs\\Lib\\site-packages\\openpyxl\\styles\\stylesheet.py:237: UserWarning: Workbook contains no default style, apply openpyxl's default\n",
      "  warn(\"Workbook contains no default style, apply openpyxl's default\")\n",
      "F:\\Projects\\hackathon\\envs\\Lib\\site-packages\\openpyxl\\styles\\stylesheet.py:237: UserWarning: Workbook contains no default style, apply openpyxl's default\n",
      "  warn(\"Workbook contains no default style, apply openpyxl's default\")\n",
      "F:\\Projects\\hackathon\\envs\\Lib\\site-packages\\openpyxl\\styles\\stylesheet.py:237: UserWarning: Workbook contains no default style, apply openpyxl's default\n",
      "  warn(\"Workbook contains no default style, apply openpyxl's default\")\n",
      "F:\\Projects\\hackathon\\envs\\Lib\\site-packages\\openpyxl\\styles\\stylesheet.py:237: UserWarning: Workbook contains no default style, apply openpyxl's default\n",
      "  warn(\"Workbook contains no default style, apply openpyxl's default\")\n"
     ]
    }
   ],
   "source": [
    "import pandas as pd\n",
    "regions = pd.read_excel('data/regions.xlsx')\n",
    "campaigns = pd.read_excel('data/campaigns.xlsx')\n",
    "charities = pd.read_excel('data/charities.xlsx')\n",
    "comments = pd.read_excel('data/comments.xlsx')\n",
    "comment_likes = pd.read_excel('data/commentlikes.xlsx')\n",
    "keywords = pd.read_excel('data/keywords.xlsx')\n",
    "payments = pd.read_excel('data/payments.xlsx')"
   ]
  },
  {
   "cell_type": "code",
   "execution_count": 16,
   "metadata": {
    "ExecuteTime": {
     "end_time": "2024-08-09T10:52:49.002192600Z",
     "start_time": "2024-08-09T10:52:48.921579500Z"
    }
   },
   "outputs": [
    {
     "data": {
      "text/plain": "      id                 hashtag    goal  collected  user_count  status  \\\n27  6236        obedi_starikam_5   85931      86831         301       5   \n61  6311          detibabochki_6  614679     351725        1161       4   \n28  6238  povar_dlya_pensionerov   56634      56634         214       5   \n93  6368           ozdoyevasafia  236250     236250         776       5   \n95  6370     vision4dzhabrail123  195337     196016         768       5   \n63  6313           arjevarovamin   76698      79058         308       5   \n69  6338           maidat_svet_2  243005     244825         761       5   \n75  6350                    ivan   88725      90825         298       5   \n35  6256     shtantchayev_danial  181421     181431         448       5   \n92  6367         meirievakhadija   76698      76718         207       5   \n\n    charity_id  help_receiver_count  link_open_event_count  \\\n27          29                   10                      3   \n61          39                    2                    150   \n28          29                   45                      8   \n93           3                    1                     76   \n95          83                    1                     67   \n63           3                    1                      9   \n69          43                    1                     37   \n75          86                    1                     15   \n35          13                    1                     40   \n92           3                    1                      7   \n\n              published_at             finished_at  finish_payment_id  \\\n27 2024-01-01 03:42:44.025 2024-01-01 14:58:12.594          5772468.0   \n61 2024-01-01 12:42:44.228                     NaT                NaN   \n28 2024-01-01 19:12:44.474 2024-01-03 21:27:59.101          5781827.0   \n93 2024-01-01 23:12:45.286 2024-01-10 00:35:01.787          5813995.0   \n95 2024-01-01 23:12:45.887 2024-01-05 12:20:17.212          5791667.0   \n63 2024-01-01 23:42:45.233 2024-01-02 12:17:16.862          5775893.0   \n69 2024-01-02 12:42:45.515 2024-01-05 11:30:21.376          5790036.0   \n75 2024-01-02 12:42:46.303 2024-01-03 23:41:11.612          5782285.0   \n35 2024-01-03 00:42:45.900 2024-01-05 12:09:57.781          5791333.0   \n92 2024-01-03 12:42:42.624 2024-01-03 21:22:59.479          5781800.0   \n\n                                                title  \\\n27  Одинокие пожилые люди нуждаются в горячем питании   \n61  Михаилу и еще одному ребенку с генетическим за...   \n28  Фонду нужна финансовая помощь для приготовлени...   \n93  Чтобы преодолеть задержку психоречевого развит...   \n95  У Джабраила задержка психоречевого развития, е...   \n63  У Амина онкологическое заболевание. Ему необхо...   \n69  Маидат нужно специальное лекарство, чтобы прод...   \n75  У Вани лейкоз и ему нужно лекарство, которое п...   \n35  Даниялу требуется курс реабилитации, чтобы улу...   \n92  У Хадиджы тромбоцитопеническая пурпура. Ей нуж...   \n\n                                          description  \n27  Каждый день наш фонд готовит и доставляет горя...  \n61  Держать ручку, застегнуть пуговицу, пользовать...  \n28  Каждый день наш фонд доставляет горячие обеды ...  \n93  Сафии 3 года. У нее задержка психоречевого раз...  \n95  У Джабраила задержка психоречевого развития.\\r...  \n63  Маленькому Амину всего 9 лет. Уже почти год, к...  \n69  При рождении у Маидат был выявлен высокий били...  \n75  Ване 11 лет. У него острый лимфобластный лейко...  \n35  Даниялу 7 лет. У мальчика задержка речевого ра...  \n92  Хадидже 9 лет. Когда ей было три года, мама за...  ",
      "text/html": "<div>\n<style scoped>\n    .dataframe tbody tr th:only-of-type {\n        vertical-align: middle;\n    }\n\n    .dataframe tbody tr th {\n        vertical-align: top;\n    }\n\n    .dataframe thead th {\n        text-align: right;\n    }\n</style>\n<table border=\"1\" class=\"dataframe\">\n  <thead>\n    <tr style=\"text-align: right;\">\n      <th></th>\n      <th>id</th>\n      <th>hashtag</th>\n      <th>goal</th>\n      <th>collected</th>\n      <th>user_count</th>\n      <th>status</th>\n      <th>charity_id</th>\n      <th>help_receiver_count</th>\n      <th>link_open_event_count</th>\n      <th>published_at</th>\n      <th>finished_at</th>\n      <th>finish_payment_id</th>\n      <th>title</th>\n      <th>description</th>\n    </tr>\n  </thead>\n  <tbody>\n    <tr>\n      <th>27</th>\n      <td>6236</td>\n      <td>obedi_starikam_5</td>\n      <td>85931</td>\n      <td>86831</td>\n      <td>301</td>\n      <td>5</td>\n      <td>29</td>\n      <td>10</td>\n      <td>3</td>\n      <td>2024-01-01 03:42:44.025</td>\n      <td>2024-01-01 14:58:12.594</td>\n      <td>5772468.0</td>\n      <td>Одинокие пожилые люди нуждаются в горячем питании</td>\n      <td>Каждый день наш фонд готовит и доставляет горя...</td>\n    </tr>\n    <tr>\n      <th>61</th>\n      <td>6311</td>\n      <td>detibabochki_6</td>\n      <td>614679</td>\n      <td>351725</td>\n      <td>1161</td>\n      <td>4</td>\n      <td>39</td>\n      <td>2</td>\n      <td>150</td>\n      <td>2024-01-01 12:42:44.228</td>\n      <td>NaT</td>\n      <td>NaN</td>\n      <td>Михаилу и еще одному ребенку с генетическим за...</td>\n      <td>Держать ручку, застегнуть пуговицу, пользовать...</td>\n    </tr>\n    <tr>\n      <th>28</th>\n      <td>6238</td>\n      <td>povar_dlya_pensionerov</td>\n      <td>56634</td>\n      <td>56634</td>\n      <td>214</td>\n      <td>5</td>\n      <td>29</td>\n      <td>45</td>\n      <td>8</td>\n      <td>2024-01-01 19:12:44.474</td>\n      <td>2024-01-03 21:27:59.101</td>\n      <td>5781827.0</td>\n      <td>Фонду нужна финансовая помощь для приготовлени...</td>\n      <td>Каждый день наш фонд доставляет горячие обеды ...</td>\n    </tr>\n    <tr>\n      <th>93</th>\n      <td>6368</td>\n      <td>ozdoyevasafia</td>\n      <td>236250</td>\n      <td>236250</td>\n      <td>776</td>\n      <td>5</td>\n      <td>3</td>\n      <td>1</td>\n      <td>76</td>\n      <td>2024-01-01 23:12:45.286</td>\n      <td>2024-01-10 00:35:01.787</td>\n      <td>5813995.0</td>\n      <td>Чтобы преодолеть задержку психоречевого развит...</td>\n      <td>Сафии 3 года. У нее задержка психоречевого раз...</td>\n    </tr>\n    <tr>\n      <th>95</th>\n      <td>6370</td>\n      <td>vision4dzhabrail123</td>\n      <td>195337</td>\n      <td>196016</td>\n      <td>768</td>\n      <td>5</td>\n      <td>83</td>\n      <td>1</td>\n      <td>67</td>\n      <td>2024-01-01 23:12:45.887</td>\n      <td>2024-01-05 12:20:17.212</td>\n      <td>5791667.0</td>\n      <td>У Джабраила задержка психоречевого развития, е...</td>\n      <td>У Джабраила задержка психоречевого развития.\\r...</td>\n    </tr>\n    <tr>\n      <th>63</th>\n      <td>6313</td>\n      <td>arjevarovamin</td>\n      <td>76698</td>\n      <td>79058</td>\n      <td>308</td>\n      <td>5</td>\n      <td>3</td>\n      <td>1</td>\n      <td>9</td>\n      <td>2024-01-01 23:42:45.233</td>\n      <td>2024-01-02 12:17:16.862</td>\n      <td>5775893.0</td>\n      <td>У Амина онкологическое заболевание. Ему необхо...</td>\n      <td>Маленькому Амину всего 9 лет. Уже почти год, к...</td>\n    </tr>\n    <tr>\n      <th>69</th>\n      <td>6338</td>\n      <td>maidat_svet_2</td>\n      <td>243005</td>\n      <td>244825</td>\n      <td>761</td>\n      <td>5</td>\n      <td>43</td>\n      <td>1</td>\n      <td>37</td>\n      <td>2024-01-02 12:42:45.515</td>\n      <td>2024-01-05 11:30:21.376</td>\n      <td>5790036.0</td>\n      <td>Маидат нужно специальное лекарство, чтобы прод...</td>\n      <td>При рождении у Маидат был выявлен высокий били...</td>\n    </tr>\n    <tr>\n      <th>75</th>\n      <td>6350</td>\n      <td>ivan</td>\n      <td>88725</td>\n      <td>90825</td>\n      <td>298</td>\n      <td>5</td>\n      <td>86</td>\n      <td>1</td>\n      <td>15</td>\n      <td>2024-01-02 12:42:46.303</td>\n      <td>2024-01-03 23:41:11.612</td>\n      <td>5782285.0</td>\n      <td>У Вани лейкоз и ему нужно лекарство, которое п...</td>\n      <td>Ване 11 лет. У него острый лимфобластный лейко...</td>\n    </tr>\n    <tr>\n      <th>35</th>\n      <td>6256</td>\n      <td>shtantchayev_danial</td>\n      <td>181421</td>\n      <td>181431</td>\n      <td>448</td>\n      <td>5</td>\n      <td>13</td>\n      <td>1</td>\n      <td>40</td>\n      <td>2024-01-03 00:42:45.900</td>\n      <td>2024-01-05 12:09:57.781</td>\n      <td>5791333.0</td>\n      <td>Даниялу требуется курс реабилитации, чтобы улу...</td>\n      <td>Даниялу 7 лет. У мальчика задержка речевого ра...</td>\n    </tr>\n    <tr>\n      <th>92</th>\n      <td>6367</td>\n      <td>meirievakhadija</td>\n      <td>76698</td>\n      <td>76718</td>\n      <td>207</td>\n      <td>5</td>\n      <td>3</td>\n      <td>1</td>\n      <td>7</td>\n      <td>2024-01-03 12:42:42.624</td>\n      <td>2024-01-03 21:22:59.479</td>\n      <td>5781800.0</td>\n      <td>У Хадиджы тромбоцитопеническая пурпура. Ей нуж...</td>\n      <td>Хадидже 9 лет. Когда ей было три года, мама за...</td>\n    </tr>\n  </tbody>\n</table>\n</div>"
     },
     "execution_count": 16,
     "metadata": {},
     "output_type": "execute_result"
    }
   ],
   "source": [
    "from models.simple_model import SimpleModel\n",
    "user_id = 'adb65105-dc50-7be8-63a8-5ad39e1cf681'\n",
    "date = '2024-06-03'\n",
    "simple_model = SimpleModel(campaigns, payments)\n",
    "simple_model.get_list(date, user_id)"
   ]
  },
  {
   "cell_type": "code",
   "execution_count": 17,
   "outputs": [],
   "source": [
    "from src.session_table import SessionTable\n",
    "# top_users - top 1000 users that are donated most frequently\n",
    "top_users = payments.groupby(['user_id'])['user_id'].count().reset_index(name='count').sort_values(['count'], ascending = False)['user_id'].head(1).to_list()\n",
    "\n",
    "session_table = SessionTable(campaigns, payments)\n",
    "res = session_table.generate(top_users)"
   ],
   "metadata": {
    "collapsed": false,
    "ExecuteTime": {
     "end_time": "2024-08-09T10:53:00.811147700Z",
     "start_time": "2024-08-09T10:52:58.852354900Z"
    }
   }
  },
  {
   "cell_type": "code",
   "execution_count": 15,
   "outputs": [],
   "source": [
    "res.to_csv(\"data/sessions.csv\", index=False)\n"
   ],
   "metadata": {
    "collapsed": false,
    "ExecuteTime": {
     "end_time": "2024-08-09T10:50:33.264209900Z",
     "start_time": "2024-08-09T10:50:30.065255500Z"
    }
   }
  }
 ],
 "metadata": {
  "colab": {
   "provenance": []
  },
  "kernelspec": {
   "display_name": "Python 3 (ipykernel)",
   "language": "python",
   "name": "python3"
  },
  "language_info": {
   "codemirror_mode": {
    "name": "ipython",
    "version": 3
   },
   "file_extension": ".py",
   "mimetype": "text/x-python",
   "name": "python",
   "nbconvert_exporter": "python",
   "pygments_lexer": "ipython3",
   "version": "3.12.4"
  }
 },
 "nbformat": 4,
 "nbformat_minor": 4
}
