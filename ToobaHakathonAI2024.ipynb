{
 "cells": [
  {
   "cell_type": "code",
   "execution_count": 2,
   "metadata": {
    "colab": {
     "base_uri": "https://localhost:8080/",
     "height": 329
    },
    "executionInfo": {
     "elapsed": 1287,
     "status": "error",
     "timestamp": 1723109493689,
     "user": {
      "displayName": "ОМИ ДНЦ РАН",
      "userId": "01242135613161943268"
     },
     "user_tz": -180
    },
    "id": "hlPc1MAQKDYe",
    "outputId": "4340b710-8241-4825-b787-742950a2ccbd",
    "ExecuteTime": {
     "end_time": "2024-08-08T21:00:22.259732700Z",
     "start_time": "2024-08-08T21:00:22.213555100Z"
    }
   },
   "outputs": [],
   "source": [
    "%load_ext autoreload\n",
    "%autoreload 2\n",
    "import sys\n",
    "import os\n",
    "sys.path.append(os.path.abspath(os.path.join(os.pardir, os.pardir)))"
   ]
  },
  {
   "cell_type": "code",
   "execution_count": 3,
   "metadata": {
    "colab": {
     "base_uri": "https://localhost:8080/",
     "height": 329
    },
    "executionInfo": {
     "elapsed": 1287,
     "status": "error",
     "timestamp": 1723109493689,
     "user": {
      "displayName": "ОМИ ДНЦ РАН",
      "userId": "01242135613161943268"
     },
     "user_tz": -180
    },
    "id": "hlPc1MAQKDYe",
    "outputId": "4340b710-8241-4825-b787-742950a2ccbd",
    "ExecuteTime": {
     "end_time": "2024-08-08T21:03:04.177807100Z",
     "start_time": "2024-08-08T21:00:23.173569500Z"
    }
   },
   "outputs": [
    {
     "name": "stderr",
     "output_type": "stream",
     "text": [
      "C:\\docs\\progs\\python\\hakathon\\env\\Lib\\site-packages\\openpyxl\\styles\\stylesheet.py:226: UserWarning: Workbook contains no default style, apply openpyxl's default\n",
      "  warn(\"Workbook contains no default style, apply openpyxl's default\")\n",
      "C:\\docs\\progs\\python\\hakathon\\env\\Lib\\site-packages\\openpyxl\\styles\\stylesheet.py:226: UserWarning: Workbook contains no default style, apply openpyxl's default\n",
      "  warn(\"Workbook contains no default style, apply openpyxl's default\")\n",
      "C:\\docs\\progs\\python\\hakathon\\env\\Lib\\site-packages\\openpyxl\\styles\\stylesheet.py:226: UserWarning: Workbook contains no default style, apply openpyxl's default\n",
      "  warn(\"Workbook contains no default style, apply openpyxl's default\")\n",
      "C:\\docs\\progs\\python\\hakathon\\env\\Lib\\site-packages\\openpyxl\\styles\\stylesheet.py:226: UserWarning: Workbook contains no default style, apply openpyxl's default\n",
      "  warn(\"Workbook contains no default style, apply openpyxl's default\")\n",
      "C:\\docs\\progs\\python\\hakathon\\env\\Lib\\site-packages\\openpyxl\\styles\\stylesheet.py:226: UserWarning: Workbook contains no default style, apply openpyxl's default\n",
      "  warn(\"Workbook contains no default style, apply openpyxl's default\")\n",
      "C:\\docs\\progs\\python\\hakathon\\env\\Lib\\site-packages\\openpyxl\\styles\\stylesheet.py:226: UserWarning: Workbook contains no default style, apply openpyxl's default\n",
      "  warn(\"Workbook contains no default style, apply openpyxl's default\")\n",
      "C:\\docs\\progs\\python\\hakathon\\env\\Lib\\site-packages\\openpyxl\\styles\\stylesheet.py:226: UserWarning: Workbook contains no default style, apply openpyxl's default\n",
      "  warn(\"Workbook contains no default style, apply openpyxl's default\")\n"
     ]
    }
   ],
   "source": [
    "import pandas as pd\n",
    "regions = pd.read_excel('data/regions.xlsx')\n",
    "campaigns = pd.read_excel('data/campaigns.xlsx')\n",
    "charities = pd.read_excel('data/charities.xlsx')\n",
    "comments = pd.read_excel('data/comments.xlsx')\n",
    "comment_likes = pd.read_excel('data/commentlikes.xlsx')\n",
    "keywords = pd.read_excel('data/keywords.xlsx')\n",
    "payments = pd.read_excel('data/payments.xlsx')"
   ]
  },
  {
   "cell_type": "code",
   "execution_count": 49,
   "metadata": {
    "ExecuteTime": {
     "end_time": "2024-08-08T20:43:38.339203200Z",
     "start_time": "2024-08-08T20:43:37.921717100Z"
    }
   },
   "outputs": [
    {
     "name": "stderr",
     "output_type": "stream",
     "text": [
      "C:\\docs\\progs\\python\\hakathon\\env\\Lib\\site-packages\\openpyxl\\styles\\stylesheet.py:226: UserWarning: Workbook contains no default style, apply openpyxl's default\n",
      "  warn(\"Workbook contains no default style, apply openpyxl's default\")\n"
     ]
    },
    {
     "data": {
      "text/plain": "        id                 hashtag    goal  collected  user_count  status  \\\n300   6236        obedi_starikam_5   85931      86831         301       5   \n718   6311          detibabochki_6  614679     351625        1160       4   \n294   6238  povar_dlya_pensionerov   56634      56634         214       5   \n1852  6368           ozdoyevasafia  236250     236250         776       5   \n549   6370     vision4dzhabrail123  195337     196016         768       5   \n1848  6313           arjevarovamin   76698      79058         308       5   \n1359  6338           maidat_svet_2  243005     244825         761       5   \n680   6350                    ivan   88725      90825         298       5   \n1063  6256     shtantchayev_danial  181421     181431         448       5   \n1849  6367         meirievakhadija   76698      76718         207       5   \n\n      charity_id  help_receiver_count  link_open_event_count  \\\n300           29                   10                      3   \n718           39                    2                    150   \n294           29                   45                      8   \n1852           3                    1                     76   \n549           83                    1                     67   \n1848           3                    1                      9   \n1359          43                    1                     37   \n680           86                    1                     15   \n1063          13                    1                     40   \n1849           3                    1                      7   \n\n                published_at             finished_at  finish_payment_id  \\\n300  2024-01-01 03:42:44.025 2024-01-01 14:58:12.594          5772468.0   \n718  2024-01-01 12:42:44.228                     NaT                NaN   \n294  2024-01-01 19:12:44.474 2024-01-03 21:27:59.101          5781827.0   \n1852 2024-01-01 23:12:45.286 2024-01-10 00:35:01.787          5813995.0   \n549  2024-01-01 23:12:45.887 2024-01-05 12:20:17.212          5791667.0   \n1848 2024-01-01 23:42:45.233 2024-01-02 12:17:16.862          5775893.0   \n1359 2024-01-02 12:42:45.515 2024-01-05 11:30:21.376          5790036.0   \n680  2024-01-02 12:42:46.303 2024-01-03 23:41:11.612          5782285.0   \n1063 2024-01-03 00:42:45.900 2024-01-05 12:09:57.781          5791333.0   \n1849 2024-01-03 12:42:42.624 2024-01-03 21:22:59.479          5781800.0   \n\n                                                  title  \\\n300   Одинокие пожилые люди нуждаются в горячем питании   \n718   Михаилу и еще одному ребенку с генетическим за...   \n294   Фонду нужна финансовая помощь для приготовлени...   \n1852  Чтобы преодолеть задержку психоречевого развит...   \n549   У Джабраила задержка психоречевого развития, е...   \n1848  У Амина онкологическое заболевание. Ему необхо...   \n1359  Маидат нужно специальное лекарство, чтобы прод...   \n680   У Вани лейкоз и ему нужно лекарство, которое п...   \n1063  Даниялу требуется курс реабилитации, чтобы улу...   \n1849  У Хадиджы тромбоцитопеническая пурпура. Ей нуж...   \n\n                                            description  \n300   Каждый день наш фонд готовит и доставляет горя...  \n718   Держать ручку, застегнуть пуговицу, пользовать...  \n294   Каждый день наш фонд доставляет горячие обеды ...  \n1852  Сафии 3 года. У нее задержка психоречевого раз...  \n549   У Джабраила задержка психоречевого развития.\\r...  \n1848  Маленькому Амину всего 9 лет. Уже почти год, к...  \n1359  При рождении у Маидат был выявлен высокий били...  \n680   Ване 11 лет. У него острый лимфобластный лейко...  \n1063  Даниялу 7 лет. У мальчика задержка речевого ра...  \n1849  Хадидже 9 лет. Когда ей было три года, мама за...  ",
      "text/html": "<div>\n<style scoped>\n    .dataframe tbody tr th:only-of-type {\n        vertical-align: middle;\n    }\n\n    .dataframe tbody tr th {\n        vertical-align: top;\n    }\n\n    .dataframe thead th {\n        text-align: right;\n    }\n</style>\n<table border=\"1\" class=\"dataframe\">\n  <thead>\n    <tr style=\"text-align: right;\">\n      <th></th>\n      <th>id</th>\n      <th>hashtag</th>\n      <th>goal</th>\n      <th>collected</th>\n      <th>user_count</th>\n      <th>status</th>\n      <th>charity_id</th>\n      <th>help_receiver_count</th>\n      <th>link_open_event_count</th>\n      <th>published_at</th>\n      <th>finished_at</th>\n      <th>finish_payment_id</th>\n      <th>title</th>\n      <th>description</th>\n    </tr>\n  </thead>\n  <tbody>\n    <tr>\n      <th>300</th>\n      <td>6236</td>\n      <td>obedi_starikam_5</td>\n      <td>85931</td>\n      <td>86831</td>\n      <td>301</td>\n      <td>5</td>\n      <td>29</td>\n      <td>10</td>\n      <td>3</td>\n      <td>2024-01-01 03:42:44.025</td>\n      <td>2024-01-01 14:58:12.594</td>\n      <td>5772468.0</td>\n      <td>Одинокие пожилые люди нуждаются в горячем питании</td>\n      <td>Каждый день наш фонд готовит и доставляет горя...</td>\n    </tr>\n    <tr>\n      <th>718</th>\n      <td>6311</td>\n      <td>detibabochki_6</td>\n      <td>614679</td>\n      <td>351625</td>\n      <td>1160</td>\n      <td>4</td>\n      <td>39</td>\n      <td>2</td>\n      <td>150</td>\n      <td>2024-01-01 12:42:44.228</td>\n      <td>NaT</td>\n      <td>NaN</td>\n      <td>Михаилу и еще одному ребенку с генетическим за...</td>\n      <td>Держать ручку, застегнуть пуговицу, пользовать...</td>\n    </tr>\n    <tr>\n      <th>294</th>\n      <td>6238</td>\n      <td>povar_dlya_pensionerov</td>\n      <td>56634</td>\n      <td>56634</td>\n      <td>214</td>\n      <td>5</td>\n      <td>29</td>\n      <td>45</td>\n      <td>8</td>\n      <td>2024-01-01 19:12:44.474</td>\n      <td>2024-01-03 21:27:59.101</td>\n      <td>5781827.0</td>\n      <td>Фонду нужна финансовая помощь для приготовлени...</td>\n      <td>Каждый день наш фонд доставляет горячие обеды ...</td>\n    </tr>\n    <tr>\n      <th>1852</th>\n      <td>6368</td>\n      <td>ozdoyevasafia</td>\n      <td>236250</td>\n      <td>236250</td>\n      <td>776</td>\n      <td>5</td>\n      <td>3</td>\n      <td>1</td>\n      <td>76</td>\n      <td>2024-01-01 23:12:45.286</td>\n      <td>2024-01-10 00:35:01.787</td>\n      <td>5813995.0</td>\n      <td>Чтобы преодолеть задержку психоречевого развит...</td>\n      <td>Сафии 3 года. У нее задержка психоречевого раз...</td>\n    </tr>\n    <tr>\n      <th>549</th>\n      <td>6370</td>\n      <td>vision4dzhabrail123</td>\n      <td>195337</td>\n      <td>196016</td>\n      <td>768</td>\n      <td>5</td>\n      <td>83</td>\n      <td>1</td>\n      <td>67</td>\n      <td>2024-01-01 23:12:45.887</td>\n      <td>2024-01-05 12:20:17.212</td>\n      <td>5791667.0</td>\n      <td>У Джабраила задержка психоречевого развития, е...</td>\n      <td>У Джабраила задержка психоречевого развития.\\r...</td>\n    </tr>\n    <tr>\n      <th>1848</th>\n      <td>6313</td>\n      <td>arjevarovamin</td>\n      <td>76698</td>\n      <td>79058</td>\n      <td>308</td>\n      <td>5</td>\n      <td>3</td>\n      <td>1</td>\n      <td>9</td>\n      <td>2024-01-01 23:42:45.233</td>\n      <td>2024-01-02 12:17:16.862</td>\n      <td>5775893.0</td>\n      <td>У Амина онкологическое заболевание. Ему необхо...</td>\n      <td>Маленькому Амину всего 9 лет. Уже почти год, к...</td>\n    </tr>\n    <tr>\n      <th>1359</th>\n      <td>6338</td>\n      <td>maidat_svet_2</td>\n      <td>243005</td>\n      <td>244825</td>\n      <td>761</td>\n      <td>5</td>\n      <td>43</td>\n      <td>1</td>\n      <td>37</td>\n      <td>2024-01-02 12:42:45.515</td>\n      <td>2024-01-05 11:30:21.376</td>\n      <td>5790036.0</td>\n      <td>Маидат нужно специальное лекарство, чтобы прод...</td>\n      <td>При рождении у Маидат был выявлен высокий били...</td>\n    </tr>\n    <tr>\n      <th>680</th>\n      <td>6350</td>\n      <td>ivan</td>\n      <td>88725</td>\n      <td>90825</td>\n      <td>298</td>\n      <td>5</td>\n      <td>86</td>\n      <td>1</td>\n      <td>15</td>\n      <td>2024-01-02 12:42:46.303</td>\n      <td>2024-01-03 23:41:11.612</td>\n      <td>5782285.0</td>\n      <td>У Вани лейкоз и ему нужно лекарство, которое п...</td>\n      <td>Ване 11 лет. У него острый лимфобластный лейко...</td>\n    </tr>\n    <tr>\n      <th>1063</th>\n      <td>6256</td>\n      <td>shtantchayev_danial</td>\n      <td>181421</td>\n      <td>181431</td>\n      <td>448</td>\n      <td>5</td>\n      <td>13</td>\n      <td>1</td>\n      <td>40</td>\n      <td>2024-01-03 00:42:45.900</td>\n      <td>2024-01-05 12:09:57.781</td>\n      <td>5791333.0</td>\n      <td>Даниялу требуется курс реабилитации, чтобы улу...</td>\n      <td>Даниялу 7 лет. У мальчика задержка речевого ра...</td>\n    </tr>\n    <tr>\n      <th>1849</th>\n      <td>6367</td>\n      <td>meirievakhadija</td>\n      <td>76698</td>\n      <td>76718</td>\n      <td>207</td>\n      <td>5</td>\n      <td>3</td>\n      <td>1</td>\n      <td>7</td>\n      <td>2024-01-03 12:42:42.624</td>\n      <td>2024-01-03 21:22:59.479</td>\n      <td>5781800.0</td>\n      <td>У Хадиджы тромбоцитопеническая пурпура. Ей нуж...</td>\n      <td>Хадидже 9 лет. Когда ей было три года, мама за...</td>\n    </tr>\n  </tbody>\n</table>\n</div>"
     },
     "execution_count": 49,
     "metadata": {},
     "output_type": "execute_result"
    }
   ],
   "source": [
    "from models.SimpleModel import SimpleModel\n",
    "user_id = 'adb65105-dc50-7be8-63a8-5ad39e1cf681'\n",
    "date = '2024-06-03'\n",
    "simple_model = SimpleModel(campaigns, payments)\n",
    "simple_model.get_list(date, user_id)"
   ]
  },
  {
   "cell_type": "code",
   "execution_count": 14,
   "metadata": {
    "colab": {
     "base_uri": "https://localhost:8080/",
     "height": 311
    },
    "executionInfo": {
     "elapsed": 5198,
     "status": "error",
     "timestamp": 1723108853134,
     "user": {
      "displayName": "Магомедрасул М-К",
      "userId": "11704856910965267887"
     },
     "user_tz": -180
    },
    "id": "0bx4J_dOQXO-",
    "outputId": "eccf77f1-0f73-4e6e-da99-651e12607c38",
    "ExecuteTime": {
     "end_time": "2024-08-08T20:07:53.226668200Z",
     "start_time": "2024-08-08T20:07:53.121728100Z"
    }
   },
   "outputs": [
    {
     "data": {
      "text/plain": "Timestamp('2024-01-03 03:42:44.025000')"
     },
     "execution_count": 14,
     "metadata": {},
     "output_type": "execute_result"
    }
   ],
   "source": [
    "#payments.groupby(['user_id'])['id'].count().reset_index(name='id').sort_values(['id'])\n",
    "payments[payments.user_id==user_id].sort_values(['finished_at'], ascending=True).head(10)\n",
    "# session id (date + user_id), campaign_id, \n",
    "# функция генерирует сессию, строим отсортированная выдачу, \n",
    "#session_id campaign_id position_id conv\n",
    "#date + user_id 12 0\n",
    "#date + user_id 13 1\n",
    "#date + user_id 14 0\n",
    "start_date = campaigns[\"published_at\"].min()\n",
    "start_date\n",
    "end_date = payments[\"finished_at\"].max()\n",
    "(end_date-start_date).days\n",
    "start_date + pd.DateOffset(2)"
   ]
  },
  {
   "cell_type": "code",
   "execution_count": 19,
   "metadata": {
    "ExecuteTime": {
     "end_time": "2024-08-08T21:13:14.328253800Z",
     "start_time": "2024-08-08T21:13:14.278251900Z"
    }
   },
   "outputs": [
    {
     "ename": "AttributeError",
     "evalue": "'DataFrame' object has no attribute 'floor'",
     "output_type": "error",
     "traceback": [
      "\u001B[1;31m---------------------------------------------------------------------------\u001B[0m",
      "\u001B[1;31mAttributeError\u001B[0m                            Traceback (most recent call last)",
      "\u001B[1;32m~\\AppData\\Local\\Temp\\ipykernel_19696\\2980921971.py\u001B[0m in \u001B[0;36m?\u001B[1;34m()\u001B[0m\n\u001B[0;32m      1\u001B[0m \u001B[1;32mimport\u001B[0m \u001B[0mdatetime\u001B[0m\u001B[1;33m\u001B[0m\u001B[1;33m\u001B[0m\u001B[0m\n\u001B[0;32m      2\u001B[0m \u001B[1;33m\u001B[0m\u001B[0m\n\u001B[1;32m----> 3\u001B[1;33m \u001B[0mcampaigns\u001B[0m\u001B[1;33m[\u001B[0m\u001B[1;33m[\u001B[0m\u001B[1;34m\"published_at\"\u001B[0m\u001B[1;33m]\u001B[0m\u001B[1;33m]\u001B[0m\u001B[1;33m.\u001B[0m\u001B[0mfloor\u001B[0m\u001B[1;33m(\u001B[0m\u001B[1;34m'd'\u001B[0m\u001B[1;33m)\u001B[0m\u001B[1;33m\u001B[0m\u001B[1;33m\u001B[0m\u001B[0m\n\u001B[0m\u001B[0;32m      4\u001B[0m \u001B[1;33m\u001B[0m\u001B[0m\n",
      "\u001B[1;32mC:\\docs\\progs\\python\\hakathon\\env\\Lib\\site-packages\\pandas\\core\\generic.py\u001B[0m in \u001B[0;36m?\u001B[1;34m(self, name)\u001B[0m\n\u001B[0;32m   6200\u001B[0m             \u001B[1;32mand\u001B[0m \u001B[0mname\u001B[0m \u001B[1;32mnot\u001B[0m \u001B[1;32min\u001B[0m \u001B[0mself\u001B[0m\u001B[1;33m.\u001B[0m\u001B[0m_accessors\u001B[0m\u001B[1;33m\u001B[0m\u001B[1;33m\u001B[0m\u001B[0m\n\u001B[0;32m   6201\u001B[0m             \u001B[1;32mand\u001B[0m \u001B[0mself\u001B[0m\u001B[1;33m.\u001B[0m\u001B[0m_info_axis\u001B[0m\u001B[1;33m.\u001B[0m\u001B[0m_can_hold_identifiers_and_holds_name\u001B[0m\u001B[1;33m(\u001B[0m\u001B[0mname\u001B[0m\u001B[1;33m)\u001B[0m\u001B[1;33m\u001B[0m\u001B[1;33m\u001B[0m\u001B[0m\n\u001B[0;32m   6202\u001B[0m         \u001B[1;33m)\u001B[0m\u001B[1;33m:\u001B[0m\u001B[1;33m\u001B[0m\u001B[1;33m\u001B[0m\u001B[0m\n\u001B[0;32m   6203\u001B[0m             \u001B[1;32mreturn\u001B[0m \u001B[0mself\u001B[0m\u001B[1;33m[\u001B[0m\u001B[0mname\u001B[0m\u001B[1;33m]\u001B[0m\u001B[1;33m\u001B[0m\u001B[1;33m\u001B[0m\u001B[0m\n\u001B[1;32m-> 6204\u001B[1;33m         \u001B[1;32mreturn\u001B[0m \u001B[0mobject\u001B[0m\u001B[1;33m.\u001B[0m\u001B[0m__getattribute__\u001B[0m\u001B[1;33m(\u001B[0m\u001B[0mself\u001B[0m\u001B[1;33m,\u001B[0m \u001B[0mname\u001B[0m\u001B[1;33m)\u001B[0m\u001B[1;33m\u001B[0m\u001B[1;33m\u001B[0m\u001B[0m\n\u001B[0m",
      "\u001B[1;31mAttributeError\u001B[0m: 'DataFrame' object has no attribute 'floor'"
     ]
    }
   ],
   "source": [
    "import datetime\n",
    "\n",
    "campaigns[\"published_at\"].\n"
   ]
  },
  {
   "cell_type": "code",
   "execution_count": 36,
   "outputs": [],
   "source": [
    "from src.utils import SessionTable\n",
    "\n",
    "session_table = SessionTable(campaigns, payments)\n",
    "res = session_table.generate_for_user(\"ff6cbe8f-55e3-327e-9211-2b8996cf0f1e\")"
   ],
   "metadata": {
    "collapsed": false,
    "ExecuteTime": {
     "end_time": "2024-08-08T21:23:10.817069Z",
     "start_time": "2024-08-08T21:21:51.411683700Z"
    }
   }
  },
  {
   "cell_type": "code",
   "execution_count": 38,
   "outputs": [
    {
     "data": {
      "text/plain": "          date                               user_id  campaign_id  pos  \\\n170 2024-01-20  ff6cbe8f-55e3-327e-9211-2b8996cf0f1e         6119    2   \n\n     is_donated  \n170        True  ",
      "text/html": "<div>\n<style scoped>\n    .dataframe tbody tr th:only-of-type {\n        vertical-align: middle;\n    }\n\n    .dataframe tbody tr th {\n        vertical-align: top;\n    }\n\n    .dataframe thead th {\n        text-align: right;\n    }\n</style>\n<table border=\"1\" class=\"dataframe\">\n  <thead>\n    <tr style=\"text-align: right;\">\n      <th></th>\n      <th>date</th>\n      <th>user_id</th>\n      <th>campaign_id</th>\n      <th>pos</th>\n      <th>is_donated</th>\n    </tr>\n  </thead>\n  <tbody>\n    <tr>\n      <th>170</th>\n      <td>2024-01-20</td>\n      <td>ff6cbe8f-55e3-327e-9211-2b8996cf0f1e</td>\n      <td>6119</td>\n      <td>2</td>\n      <td>True</td>\n    </tr>\n  </tbody>\n</table>\n</div>"
     },
     "execution_count": 38,
     "metadata": {},
     "output_type": "execute_result"
    }
   ],
   "source": [
    "res[res.is_donated == True]"
   ],
   "metadata": {
    "collapsed": false,
    "ExecuteTime": {
     "end_time": "2024-08-08T21:23:56.004713Z",
     "start_time": "2024-08-08T21:23:55.959365900Z"
    }
   }
  }
 ],
 "metadata": {
  "colab": {
   "provenance": []
  },
  "kernelspec": {
   "display_name": "Python 3 (ipykernel)",
   "language": "python",
   "name": "python3"
  },
  "language_info": {
   "codemirror_mode": {
    "name": "ipython",
    "version": 3
   },
   "file_extension": ".py",
   "mimetype": "text/x-python",
   "name": "python",
   "nbconvert_exporter": "python",
   "pygments_lexer": "ipython3",
   "version": "3.12.4"
  }
 },
 "nbformat": 4,
 "nbformat_minor": 4
}
